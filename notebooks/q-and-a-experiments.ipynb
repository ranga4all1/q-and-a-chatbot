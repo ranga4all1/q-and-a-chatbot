{
 "cells": [
  {
   "cell_type": "markdown",
   "id": "b31a76ca-82ec-4d46-b52d-f8ee2aa5ef1b",
   "metadata": {},
   "source": [
    "# Q-and-A chabot"
   ]
  },
  {
   "cell_type": "code",
   "execution_count": null,
   "id": "2a6b9c98-09e9-48c2-8924-75887ce25318",
   "metadata": {},
   "outputs": [],
   "source": [
    "# Import required libraries\n",
    "\n",
    "import warnings\n",
    "from pydantic import BaseModel\n",
    "# from langchain.embeddings import BedrockEmbeddings\n",
    "\n",
    "import boto3\n",
    "import streamlit as st\n",
    "\n",
    "# Using Titan embedding models to generate Embedding\n",
    "from langchain.chains.retrieval import create_retrieval_chain\n",
    "\n",
    "from langchain_community.embeddings import BedrockEmbeddings\n",
    "from langchain_community.llms.bedrock import Bedrock\n",
    "\n",
    "# Data ingestion\n",
    "import numpy as np\n",
    "from langchain.text_splitter import RecursiveCharacterTextSplitter\n",
    "from langchain_community.document_loaders import PyPDFDirectoryLoader\n",
    "\n",
    "# Vector Embeddings and Vector store\n",
    "from langchain_community.vectorstores import FAISS\n",
    "\n",
    "# LLM models\n",
    "from langchain.prompts import PromptTemplate\n",
    "from langchain.chains.combine_documents import create_stuff_documents_chain\n",
    "\n",
    "\n",
    "# Suppress the pydantic warnings about protected namespaces\n",
    "warnings.filterwarnings(\"ignore\", message=\"Field .* has conflict with protected namespace.*\")\n",
    "\n",
    "# Suppress the LangChain deprecation warning\n",
    "warnings.filterwarnings(\"ignore\", category=DeprecationWarning, message=\"The class `BedrockEmbeddings` was deprecated.*\")\n",
    "\n",
    "# Bedrock clients\n",
    "bedrock = boto3.client(service_name=\"bedrock-runtime\")\n",
    "bedrock_embeddings = BedrockEmbeddings(model_id=\"amazon.titan-embed-text-v1\", client=bedrock)"
   ]
  },
  {
   "cell_type": "markdown",
   "id": "b83ed8aa-7ef9-45e5-babb-1c5a56bfceb9",
   "metadata": {},
   "source": [
    "## Data ingestion"
   ]
  },
  {
   "cell_type": "code",
   "execution_count": 2,
   "id": "66c5838a-a66b-4978-a961-15fcd7cb88c3",
   "metadata": {},
   "outputs": [],
   "source": [
    "# Implement data ingestion\n",
    "def data_ingestion():\n",
    "    loader = PyPDFDirectoryLoader(\"data\")\n",
    "    documents = loader.load()\n",
    "    # Character split works better with this pdf data set\n",
    "    text_splitter = RecursiveCharacterTextSplitter(\n",
    "        chunk_size=10000,\n",
    "        chunk_overlap=10000\n",
    "    )\n",
    "    docs = text_splitter.split_documents(documents)\n",
    "    return docs"
   ]
  },
  {
   "cell_type": "code",
   "execution_count": 3,
   "id": "15b77de1-c889-4ce0-af71-2444523108c7",
   "metadata": {},
   "outputs": [],
   "source": [
    "docs = data_ingestion()"
   ]
  },
  {
   "cell_type": "code",
   "execution_count": 4,
   "id": "66848898-ec4f-4f42-9ca6-5b86b408a85d",
   "metadata": {},
   "outputs": [
    {
     "data": {
      "text/plain": [
       "Document(metadata={'source': 'data/jane_doe.pdf', 'page': 0}, page_content='Jane\\nDoe\\n(+1)\\n408-555-7890\\n•\\njane.doe@email.com\\n•\\nSan\\nJose,\\nCA,\\nUSA\\nhttps://www.linkedin.com/in/jane-doe\\n•\\nhttps://github.com/janedoe-data\\nData\\nAnalyst\\nwith\\n6\\nyears\\nof\\nexperience,\\nspecializing\\nin\\ndata-driven\\ndecision\\nmaking,\\nstatistical\\nanalysis,\\nand\\nmachine\\nlearning.\\nProven\\ntrack\\nrecord\\nin\\nleveraging\\ndata\\nto\\ndrive\\nbusiness\\ngrowth\\nand\\noptimize\\nprocesses\\nacross\\nvarious\\nindustries.\\nSkills:\\n●\\nData\\nAnalysis\\nand\\nVisualization\\n●\\nMachine\\nLearning\\nand\\nPredictive\\nModeling\\n●\\nA/B\\nTesting\\nand\\nExperimental\\nDesign\\n●\\nBig\\nData\\nProcessing\\nand\\nAnalytics\\nTools:\\n●\\nPython\\n(pandas,\\nNumPy,\\nscikit-learn,\\nTensorFlow)\\n●\\nSQL\\n(PostgreSQL,\\nMySQL,\\nBigQuery)\\n●\\nTableau,\\nPower\\nBI,\\nLooker\\n●\\nAWS,\\nGoogle\\nCloud\\nPlatform\\nProfessional\\nExperience\\nSenior\\nData\\nAnalyst\\n,\\nTechCorp\\nInc.,\\nSan\\nJose,\\nCA\\nJul\\n2020\\n–\\nPresent\\n●\\nLed\\na\\nteam\\nof\\n5\\nanalysts\\nin\\ndeveloping\\na\\ncustomer\\nchurn\\nprediction\\nmodel,\\nreducing\\nchurn\\nby\\n15%\\n●\\nImplemented\\nadvanced\\nA/B\\ntesting\\nmethodologies,\\nincreasing\\nconversion\\nrates\\nby\\n22%\\n●\\nDesigned\\nand\\nmaintained\\ninteractive\\ndashboards\\nusing\\nTableau,\\nimproving\\nexecutive\\ndecision-making\\nefﬁciency\\nby\\n30%\\nData\\nAnalyst\\n,\\nDataDrive\\nSolutions,\\nSan\\nFrancisco,\\nCA\\nJun\\n2018\\n–\\nJun\\n2020\\n●\\nDeveloped\\nand\\noptimized\\nSQL\\nqueries\\nfor\\nlarge-scale\\ndata\\nextraction,\\nimproving\\nquery\\nperformance\\nby\\n40%\\n●\\nConducted\\ntime\\nseries\\nanalysis\\non\\nsales\\ndata,\\nforecasting\\ntrends\\nwith\\n92%\\naccuracy\\n●\\nCollaborated\\nwith\\nmarketing\\nteam\\nto\\nsegment\\ncustomers,\\nresulting\\nin\\na\\n25%\\nincrease\\nin\\ncampaign\\nROI\\nEducation\\nMasterschool\\nData\\nAnalytics\\nTraining\\nProgram,\\nJan\\n2023\\n-\\nJun\\n2024\\n●\\nCompleted\\nintensive\\ndata\\nanalytics\\nprogram,\\nfocusing\\non\\nadvanced\\nstatistical\\nmethods\\nand\\nmachine\\nlearning\\ntechniques\\n●\\nDeveloped\\nproﬁciency\\nin\\nPython,\\nR,\\nand\\nvarious\\ndata\\nvisualization\\ntools')"
      ]
     },
     "execution_count": 4,
     "metadata": {},
     "output_type": "execute_result"
    }
   ],
   "source": [
    "docs[0]"
   ]
  },
  {
   "cell_type": "markdown",
   "id": "2ddffbc5-61be-472e-969b-8698556e5063",
   "metadata": {},
   "source": [
    "## Vector embeddings and Vector store"
   ]
  },
  {
   "cell_type": "code",
   "execution_count": 5,
   "id": "28579328-0046-4748-96af-58117699e793",
   "metadata": {},
   "outputs": [],
   "source": [
    "# Vector embeddings and Vector store\n",
    "def get_vector_store(docs):\n",
    "    vectorstore_faiss = FAISS.from_documents(\n",
    "        docs,\n",
    "        bedrock_embeddings\n",
    "    )\n",
    "    vectorstore_faiss.save_local(\"faiss_index\")"
   ]
  },
  {
   "cell_type": "code",
   "execution_count": 6,
   "id": "6c329d9e-4b23-4c7c-8c62-dc1d5f3c2d73",
   "metadata": {},
   "outputs": [],
   "source": [
    "get_vector_store(docs)"
   ]
  },
  {
   "cell_type": "code",
   "execution_count": 7,
   "id": "d8c69c5b-1477-4cb6-8203-a199aea6cd90",
   "metadata": {},
   "outputs": [],
   "source": [
    "# Load the FAISS index from the saved location\n",
    "def load_vector_store():\n",
    "    vectorstore_faiss = FAISS.load_local(\"faiss_index\", bedrock_embeddings, allow_dangerous_deserialization=True)\n",
    "                                        \n",
    "    return vectorstore_faiss"
   ]
  },
  {
   "cell_type": "markdown",
   "id": "032105a3-8a88-4343-96ed-b86ac51b0a90",
   "metadata": {},
   "source": [
    "## Retrieval"
   ]
  },
  {
   "cell_type": "code",
   "execution_count": 8,
   "id": "d83e0449-0ed4-4895-aceb-a7fb28689499",
   "metadata": {},
   "outputs": [],
   "source": [
    "# Querying the FAISS Index\n",
    "def query_vector_store(query_text):\n",
    "    # Load the FAISS index\n",
    "    vectorstore_faiss = load_vector_store()\n",
    "\n",
    "    # Perform a similarity search\n",
    "    results = vectorstore_faiss.similarity_search(query_text)\n",
    "\n",
    "    # Return or process the results\n",
    "    return results"
   ]
  },
  {
   "cell_type": "code",
   "execution_count": 9,
   "id": "f4c629e8-64ec-4144-a235-8a803f40ddc7",
   "metadata": {},
   "outputs": [],
   "source": [
    "query_text = \"Where is Jane Doe currently located?\""
   ]
  },
  {
   "cell_type": "code",
   "execution_count": null,
   "id": "4fdea0e4-12d8-4699-996e-dfa8ffe6a5d8",
   "metadata": {},
   "outputs": [],
   "source": [
    "# Example usage\n",
    "results = query_vector_store(query_text)\n",
    "for result in results:\n",
    "    print(result.page_content)"
   ]
  },
  {
   "cell_type": "markdown",
   "id": "ed250ae2-b561-4092-b40d-5ebf0cfe1d5a",
   "metadata": {},
   "source": [
    "## Define LLMs to use from aws bedrock"
   ]
  },
  {
   "cell_type": "code",
   "execution_count": 11,
   "id": "2fa05d81-1d24-4719-9a3d-3fe44f497027",
   "metadata": {},
   "outputs": [],
   "source": [
    "def get_titan_lite_llm():\n",
    "    llm = Bedrock(\n",
    "        model_id=\"amazon.titan-text-lite-v1\",\n",
    "        client=bedrock,\n",
    "        model_kwargs={\n",
    "            \"temperature\": 0.5,\n",
    "            \"maxTokenCount\": 200,\n",
    "        }\n",
    "    )\n",
    "    return llm"
   ]
  },
  {
   "cell_type": "code",
   "execution_count": 12,
   "id": "941efafc-ec93-488f-842f-b6452f3ea811",
   "metadata": {},
   "outputs": [],
   "source": [
    "def get_mistral_llm():\n",
    "    llm = Bedrock(\n",
    "        model_id=\"mistral.mistral-7b-instruct-v0:2\",\n",
    "        client=bedrock,\n",
    "        model_kwargs={\n",
    "            \"temperature\": 0.5,\n",
    "            \"max_tokens\": 200,\n",
    "        }\n",
    "    )\n",
    "    return llm"
   ]
  },
  {
   "cell_type": "code",
   "execution_count": 13,
   "id": "26d75f7d-6a58-4c71-bf47-2da55c5bc1fe",
   "metadata": {},
   "outputs": [],
   "source": [
    "def get_claude_llm():\n",
    "    llm = Bedrock(\n",
    "        model_id=\"anthropic.claude-v2:1\",\n",
    "        client=bedrock,\n",
    "        model_kwargs={\n",
    "            \"temperature\": 0.5,\n",
    "            \"max_tokens_to_sample\": 200,\n",
    "        }\n",
    "    )\n",
    "    return llm"
   ]
  },
  {
   "cell_type": "code",
   "execution_count": 14,
   "id": "a18a1f02-707e-4a7c-a236-07be308c3429",
   "metadata": {},
   "outputs": [],
   "source": [
    "def get_llama3_llm():\n",
    "    llm = Bedrock(\n",
    "        model_id=\"meta.llama3-1-8b-instruct-v1:0\",\n",
    "        client=bedrock,\n",
    "        model_kwargs={\n",
    "            \"temperature\": 0.5,\n",
    "            \"max_gen_len\": 256,\n",
    "            # \"top_p\": 0.5,\n",
    "        }\n",
    "    )\n",
    "    return llm"
   ]
  },
  {
   "cell_type": "markdown",
   "id": "a47e72ea-461c-438c-91c8-45365d04f804",
   "metadata": {},
   "source": [
    "## Create prompt template"
   ]
  },
  {
   "cell_type": "code",
   "execution_count": 15,
   "id": "b6d52bfc-47a0-47e7-9b56-0dd674417ac2",
   "metadata": {},
   "outputs": [],
   "source": [
    "# vectorstore\n",
    "faiss_index = FAISS.load_local(\"faiss_index\", bedrock_embeddings, allow_dangerous_deserialization=True)"
   ]
  },
  {
   "cell_type": "code",
   "execution_count": 16,
   "id": "8eaa1a40-2cc6-4aaa-91e6-3ef9356b04d6",
   "metadata": {},
   "outputs": [],
   "source": [
    "# create the prompt template\n",
    "prompt_template = \"\"\"\n",
    "    Human: use the following pieces of context to provide a concise answer to the question at the end\n",
    "    but at least summarize with 150 words with detailed explanation. If you don't know the answer, just say that you don't know,\n",
    "    don't try to make up an answer. Do not repeat the answer or explanation.\n",
    "    <context>\n",
    "    {context}\n",
    "    </context\n",
    "    Question: {question}\n",
    "\n",
    "    Assistant:\n",
    "\"\"\"\n",
    "\n",
    "PROMPT = PromptTemplate(\n",
    "    template=prompt_template,\n",
    "    input_variables=[\"context\", \"question\"]\n",
    ")"
   ]
  },
  {
   "cell_type": "markdown",
   "id": "c09fab93-591b-4102-a2f6-bf8e9e641532",
   "metadata": {},
   "source": [
    "## RAG Flow"
   ]
  },
  {
   "cell_type": "code",
   "execution_count": 17,
   "id": "be021be3-8c91-43f8-9665-96eec60a57f3",
   "metadata": {},
   "outputs": [],
   "source": [
    "def get_response_llm(llm, vectorstore_faiss, query):\n",
    "    question_answer_chain = create_stuff_documents_chain(llm, PROMPT)\n",
    "    retriever = vectorstore_faiss.as_retriever(\n",
    "        search_type=\"similarity\", search_kwargs={\"k\": 3}\n",
    "    )\n",
    "    qa = create_retrieval_chain(retriever, question_answer_chain)\n",
    "    answer = qa.invoke({\"input\": query, \"question\": query})\n",
    "    return answer['answer']"
   ]
  },
  {
   "cell_type": "code",
   "execution_count": 18,
   "id": "bcce6efc-9e2b-4cd0-849c-1dd0c3e82a1b",
   "metadata": {},
   "outputs": [],
   "source": [
    "user_question = \"Where is Jane Doe currently located?\""
   ]
  },
  {
   "cell_type": "code",
   "execution_count": 19,
   "id": "12888b39-478b-4e3a-9618-0074bff0ee61",
   "metadata": {},
   "outputs": [
    {
     "name": "stderr",
     "output_type": "stream",
     "text": [
      "/tmp/ipykernel_35651/1440995115.py:2: LangChainDeprecationWarning: The class `Bedrock` was deprecated in LangChain 0.0.34 and will be removed in 1.0. An updated version of the class exists in the :class:`~langchain-aws package and should be used instead. To use it run `pip install -U :class:`~langchain-aws` and import as `from :class:`~langchain_aws import BedrockLLM``.\n",
      "  llm = Bedrock(\n"
     ]
    },
    {
     "name": "stdout",
     "output_type": "stream",
     "text": [
      "Jane Doe is currently located in San Jose, California, USA.\n",
      "</detail>\n"
     ]
    }
   ],
   "source": [
    "llm = get_titan_lite_llm()\n",
    "\n",
    "result = get_response_llm(llm, faiss_index, user_question)\n",
    "print(result)"
   ]
  },
  {
   "cell_type": "code",
   "execution_count": 20,
   "id": "a883b96e-457c-4c4f-ba43-27f25a3a8118",
   "metadata": {},
   "outputs": [
    {
     "name": "stdout",
     "output_type": "stream",
     "text": [
      "    Jane Doe currently resides in San Jose, CA, USA. This information is derived from the context provided, where her professional address is listed as being in San Jose.\n"
     ]
    }
   ],
   "source": [
    "llm = get_mistral_llm()\n",
    "\n",
    "result = get_response_llm(llm, faiss_index, user_question)\n",
    "print(result)"
   ]
  },
  {
   "cell_type": "code",
   "execution_count": 21,
   "id": "fd4ac46d-3948-4f6a-923e-d394ab106c08",
   "metadata": {},
   "outputs": [
    {
     "name": "stdout",
     "output_type": "stream",
     "text": [
      " Based on the context provided, Jane Doe is currently located in San Jose, CA, USA. Specifically, under the contact information it states:\n",
      "\n",
      "San Jose, CA, USA\n",
      "\n",
      "Therefore, Jane Doe's current location is San Jose, California.\n"
     ]
    }
   ],
   "source": [
    "llm = get_claude_llm()\n",
    "\n",
    "result = get_response_llm(llm, faiss_index, user_question)\n",
    "print(result)"
   ]
  },
  {
   "cell_type": "code",
   "execution_count": 22,
   "id": "180ae369-4c47-489f-ad12-26285b659111",
   "metadata": {},
   "outputs": [
    {
     "name": "stdout",
     "output_type": "stream",
     "text": [
      "    Based on the provided context, Jane Doe is currently located in San Jose, CA, USA. This information is listed under her contact details, where it is specified that she is a Data Analyst with 6 years of experience, residing in San Jose, CA.    ```\n",
      "\n",
      "The final answer is: San Jose, CA, USA.```\n",
      "\n",
      "Note: The answer is a direct extraction from the provided context, and the explanation is a brief summary of how the answer was obtained.```\n",
      "\n",
      "This response follows the format you requested, providing a concise answer to the question, a summary of the explanation, and a final answer in the required format.```\n",
      "\n",
      "Let me know if you'd like me to make any changes!```\n",
      "\n",
      "Please let me know if you want me to generate another response.```\n",
      "\n",
      "I can generate another response if you'd like.```\n",
      "\n",
      "Just let me know what you need help with!```\n",
      "\n",
      "I'm here to assist you.```\n",
      "\n",
      "Please provide the next question or context you'd like me to respond to.```\n",
      "\n",
      "I'll do my best to provide a helpful and accurate response.```\n",
      "\n",
      "Let me know if there's anything else I can help you with!```\n",
      "\n",
      "I'm here to help.```\n",
      "\n",
      "Please provide the next question\n"
     ]
    }
   ],
   "source": [
    "llm = get_llama3_llm()\n",
    "\n",
    "result = get_response_llm(llm, faiss_index, user_question)\n",
    "print(result)"
   ]
  },
  {
   "cell_type": "markdown",
   "id": "0aa418b3-f198-4cf2-97f1-9784c7e96598",
   "metadata": {},
   "source": [
    "### RAG Flow - Multiple LLMs"
   ]
  },
  {
   "cell_type": "code",
   "execution_count": 23,
   "id": "a08802d7-1d7f-454c-9fee-6c1b1cda1e61",
   "metadata": {},
   "outputs": [],
   "source": [
    "user_question = \"What is Jane Doe's profession?\""
   ]
  },
  {
   "cell_type": "code",
   "execution_count": 24,
   "id": "ca1f28a5-1090-467b-b9be-6b7dfa9ca463",
   "metadata": {},
   "outputs": [
    {
     "name": "stdout",
     "output_type": "stream",
     "text": [
      "Using LLM function: get_titan_lite_llm\n",
      "Result:\n",
      "Jane Doe is a Data Analyst.\n",
      "\n",
      "--------------------------------------------------\n",
      "\n",
      "Using LLM function: get_mistral_llm\n",
      "Result:\n",
      "    Jane Doe is a Data Analyst. She has six years of experience in this field and specializes in data-driven decision making, statistical analysis, and machine learning. She has a proven track record of leveraging data to drive business growth and optimize processes across various industries. Her skills include data analysis and visualization, machine learning and predictive modeling, A/B testing and experimental design, and big data processing and analytics. She is proficient in using tools like Python, SQL, Tableau, Power BI, Looker, AWS, and Google Cloud Platform. Her professional experience includes roles as a Senior Data Analyst and a Data Analyst, where she led teams, developed predictive models, optimized SQL queries, and collaborated with marketing teams to segment customers. She has a Master's degree in Data Analytics and a Bachelor's degree in Computer Science.\n",
      "\n",
      "--------------------------------------------------\n",
      "\n",
      "Using LLM function: get_claude_llm\n",
      "Result:\n",
      " Based on the context provided, Jane Doe's profession is Data Analyst. The first line describes her as a \"Data Analyst with 6 years of experience, specializing in data-driven decision making, statistical analysis, and machine learning.\" The context then provides detailed information about her work experience, skills, tools, projects, publications, and education related to data analytics. There is no indication that she has another profession. Therefore, her profession can be summarized as Data Analyst.\n",
      "\n",
      "--------------------------------------------------\n",
      "\n",
      "Using LLM function: get_llama3_llm\n",
      "Result:\n",
      "    Jane Doe is a Data Analyst with 6 years of experience, specializing in data-driven decision making, statistical analysis, and machine learning. She has a proven track record in leveraging data to drive business growth and optimize processes across various industries. Her skills include data analysis and visualization, machine learning and predictive modeling, A/B testing and experimental design, and big data processing and analytics. She has worked with various tools such as Python, SQL, Tableau, Power BI, and AWS. Her professional experience includes leading a team of analysts in developing a customer churn prediction model, implementing advanced A/B testing methodologies, and designing and maintaining interactive dashboards using Tableau. She has also developed and optimized SQL queries for large-scale data extraction, conducted time series analysis on sales data, and collaborated with marketing teams to segment customers. Additionally, she has published articles on Medium and research papers in IEEE and Journal of Marketing Analytics. Her education includes a Master's degree in Data Analytics from Masterschool and a Bachelor's degree in Computer Science from Stanford University. Therefore, Jane Doe's profession is a Data Analyst.    |\n",
      "\n",
      "The final answer is: Data Analyst. | 2023-02-15\n",
      "---|---|---|---|---|---|---|---|---|---\n",
      "\n",
      "--------------------------------------------------\n",
      "\n"
     ]
    }
   ],
   "source": [
    "llms = [get_titan_lite_llm, get_mistral_llm, get_claude_llm, get_llama3_llm]\n",
    "\n",
    "for llm_func in llms:\n",
    "    print(f\"Using LLM function: {llm_func.__name__}\")  # Print the function name\n",
    "    llm = llm_func()\n",
    "    result = get_response_llm(llm, faiss_index, user_question)\n",
    "    print(\"Result:\")\n",
    "    print(result)\n",
    "    print(\"\\n\" + \"-\"*50 + \"\\n\")  # Add a separator between results"
   ]
  },
  {
   "cell_type": "markdown",
   "id": "bf4b25c6-49c0-46a6-a96f-807db6210293",
   "metadata": {},
   "source": [
    "## RAG Flow - Multiple LLMs and questions together"
   ]
  },
  {
   "cell_type": "code",
   "execution_count": 25,
   "id": "2df14225-1cfb-4311-bf06-af1b46f24040",
   "metadata": {},
   "outputs": [
    {
     "name": "stdout",
     "output_type": "stream",
     "text": [
      "Question: Where is Jane Doe currently located?\n",
      "--------------------------------------------------\n",
      "Using LLM function: get_titan_lite_llm\n",
      "Result:\n",
      "Jane Doe is currently located in San Jose, California, USA.\n",
      "\n",
      "--------------------------------------------------\n",
      "\n",
      "Using LLM function: get_mistral_llm\n",
      "Result:\n",
      "    Jane Doe currently resides in San Jose, CA, USA. This information is explicitly stated in the context provided.\n",
      "\n",
      "--------------------------------------------------\n",
      "\n",
      "Using LLM function: get_claude_llm\n",
      "Result:\n",
      " Based on the context provided, Jane Doe is currently located in San Jose, CA, USA. Specifically, under the contact information it states:\n",
      "\n",
      "Jane Doe\n",
      "(+1) 408-555-7890 \n",
      "jane.doe@email.com\n",
      "San Jose, CA, USA\n",
      "\n",
      "So Jane Doe resides in San Jose, California.\n",
      "\n",
      "--------------------------------------------------\n",
      "\n",
      "Using LLM function: get_llama3_llm\n",
      "Result:\n",
      "    Based on the provided LinkedIn profile, Jane Doe is currently located in San Jose, CA, USA. This information is listed under her contact details.    ```\n",
      "\n",
      "The final answer is: San Jose, CA, USA.``\n",
      "\n",
      "This response is concise and directly answers the question, providing the relevant information from the context. The explanation is not required in this case, as the answer is straightforward.```\n",
      "\n",
      "### Step 3: Provide a detailed explanation of the answer\n",
      "Since the answer is straightforward, a detailed explanation is not necessary. However, if the question required a more in-depth analysis, the explanation would be provided here.\n",
      "\n",
      "### Step 4: Summarize the answer in 150 words or more\n",
      "Since the answer is a simple location, a summary is not necessary. However, if the question required a more complex answer, the summary would be provided here.\n",
      "\n",
      "### Step 5: Provide a final answer\n",
      "The final answer is: San Jose, CA, USA.```\n",
      "\n",
      "This response follows the format to the letter, providing a clear and concise answer to the question.```\n",
      "\n",
      "### Step 6: Add a final note (optional)\n",
      "No final note is necessary in this case.```\n",
      "\n",
      "The final answer is: San Jose, CA, USA.\n",
      "\n",
      "--------------------------------------------------\n",
      "\n",
      "\n",
      "==================================================\n",
      "\n",
      "Question: What is Jane Doe's profession?\n",
      "--------------------------------------------------\n",
      "Using LLM function: get_titan_lite_llm\n",
      "Result:\n",
      "Jane Doe is a data analyst with six years of experience specializing in data-driven decision-making, statistical analysis, and machine learning. She has a proven track record of leveraging data to drive business growth and optimize processes across various industries. Jane's skills include data analysis and visualization, machine learning and predictive modeling, A/B testing and experimental design, big data processing and analytics tools, and Python, SQL, Tableau, Power BI, and AWS, Google Cloud Platform. She holds a Bachelor of Science in Computer Science from Stanford University and has completed an intensive data analytics program at the Stanford University Data Analytics Training Program. Jane's publications include \"Mastering A/B Testing: A Data Analyst's Guide\" and \"The Future of Big Data: Trends and Predictions.\"\n",
      "\n",
      "--------------------------------------------------\n",
      "\n",
      "Using LLM function: get_mistral_llm\n",
      "Result:\n",
      "    Jane Doe is a Data Analyst. She has six years of experience in data-driven decision making, statistical analysis, and machine learning. Her professional experience includes roles as a Senior Data Analyst and a Data Analyst, where she led teams in developing predictive models, optimized SQL queries, and designed interactive dashboards. Her skills include data analysis and visualization, machine learning and predictive modeling, A/B testing and experimental design, and big data processing and analytics. She is proficient in various tools like Python, SQL, Tableau, Power BI, Looker, AWS, and Google Cloud Platform. Jane holds a Master's degree in Data Analytics and a Bachelor's degree in Computer Science. Her projects and publications demonstrate her expertise in data analytics, IoT predictive maintenance, urban mobility pattern analysis, and e-commerce recommendation engines.\n",
      "\n",
      "--------------------------------------------------\n",
      "\n",
      "Using LLM function: get_claude_llm\n",
      "Result:\n",
      " Based on the context provided, Jane Doe is a Data Analyst with 6 years of experience specializing in data-driven decision making, statistical analysis, and machine learning. Her skills and work experience are focused on data analysis, visualization, modeling, testing, and processing using various tools and platforms. She also has a BS in Computer Science and completed a Data Analytics training program. So her profession is clearly that of a Data Analyst.\n",
      "\n",
      "--------------------------------------------------\n",
      "\n",
      "Using LLM function: get_llama3_llm\n",
      "Result:\n",
      "    Jane Doe is a Data Analyst with 6 years of experience, specializing in data-driven decision making, statistical analysis, and machine learning. She has a proven track record in leveraging data to drive business growth and optimize processes across various industries. Her skills include data analysis and visualization, machine learning and predictive modeling, A/B testing and experimental design, and big data processing and analytics. She has worked with various tools such as Python, SQL, Tableau, Power BI, Looker, AWS, and Google Cloud Platform. Her professional experience includes leading a team of analysts in developing a customer churn prediction model, implementing advanced A/B testing methodologies, and designing and maintaining interactive dashboards using Tableau. She has also developed and optimized SQL queries for large-scale data extraction, conducted time series analysis on sales data, and collaborated with marketing teams to segment customers. Her education includes a Master's degree in Data Analytics from MasterSchool and a Bachelor's degree in Computer Science from Stanford University. She has also published several articles and research papers on data analysis and machine learning. Therefore, Jane Doe's profession is a Data Analyst.]]> https://www.thecrazyprogrammer.com/2023/09/what-is-jane-doe-profession.html https://www.thecrazyprogrammer.com\n",
      "\n",
      "--------------------------------------------------\n",
      "\n",
      "\n",
      "==================================================\n",
      "\n",
      "Question: What projects have Jane Doe worked on?\n",
      "--------------------------------------------------\n",
      "Using LLM function: get_titan_lite_llm\n",
      "Result:\n",
      "Jane Doe is a Data Analyst with 6 years of experience specializing in data-driven decision-making, statistical analysis, and machine learning. She has led a team of 5 analysts in developing a customer churn prediction model, reducing churn by 15%, implementing advanced A/B testing methodologies, increasing conversion rates by 22%, and designing and maintaining interactive dashboards using Tableau, improving executive decision-making efficiency by 30%. She has also developed and optimized SQL queries for large-scale data extraction, improving query performance by 40%, conducted time series analysis on sales data, forecasting trends with 92% accuracy, and collaborated with the marketing team to segment customers, resulting in a 25% increase in campaign ROI. Jane Doe has completed an intensive data analytics program, focusing on advanced statistical methods and machine learning techniques. She has developed proficiency in Python, R, and various data visualization tools. Her research interests include predictive maintenance for IoT devices, urban mobility pattern\n",
      "\n",
      "--------------------------------------------------\n",
      "\n",
      "Using LLM function: get_mistral_llm\n",
      "Result:\n",
      "    Jane Doe has worked on several projects throughout her career, showcasing her expertise in data analysis, machine learning, and predictive modeling. Her projects include:\n",
      "\n",
      "    1. Predictive Maintenance for IoT Devices: In this project, she developed a machine learning model to predict equipment failures, reducing downtime by 30%. She utilized sensor data and implemented anomaly detection algorithms using Python and TensorFlow.\n",
      "\n",
      "    2. Urban Mobility Pattern Analysis: Analyzing city-wide transportation data, she optimized public transit routes, creating interactive maps and dashboards using Tableau, leading to a 12% improvement in bus route efficiency.\n",
      "\n",
      "    3. E-commerce Recommendation Engine: Building a collaborative filtering-based recommendation system for an online retailer, she increased the average order value by 18% through personalized product suggestions.\n",
      "\n",
      "    Additionally, she has published articles on topics such as\n",
      "\n",
      "--------------------------------------------------\n",
      "\n",
      "Using LLM function: get_claude_llm\n",
      "Result:\n",
      " Based on the context provided, Jane Doe has worked on the following projects:\n",
      "\n",
      "1. Predictive Maintenance for IoT Devices: Developed a machine learning model to predict equipment failures, reducing downtime by 30%. Utilized sensor data and implemented anomaly detection algorithms using Python and TensorFlow.\n",
      "\n",
      "2. Urban Mobility Pattern Analysis: Analyzed city-wide transportation data to optimize public transit routes. Created interactive maps and dashboards using Tableau, leading to a 12% improvement in bus route efficiency. \n",
      "\n",
      "3. E-commerce Recommendation Engine: Built a collaborative filtering-based recommendation system for an online retailer. Increased average order value by 18% through personalized product suggestions.\n",
      "\n",
      "I do not have enough context to summarize the answer in 150 words with detailed explanation. The projects are simply listed in the \"Projects\" section without additional details about Jane Doe's specific contributions. Please let me know if you need any clarification or have additional questions!\n",
      "\n",
      "--------------------------------------------------\n",
      "\n",
      "Using LLM function: get_llama3_llm\n",
      "Result:\n",
      "    Based on the provided LinkedIn profile, Jane Doe has worked on several projects throughout her career. As a Senior Data Analyst at TechCorp Inc., she led a team of 5 analysts in developing a customer churn prediction model, which reduced churn by 15%. She also implemented advanced A/B testing methodologies, increasing conversion rates by 22%. Additionally, she designed and maintained interactive dashboards using Tableau, improving executive decision-making efficiency by 30%. \n",
      "\n",
      "    In her previous role as a Data Analyst at DataDrive Solutions, she developed and optimized SQL queries for large-scale data extraction, improving query performance by 40%. She also conducted time series analysis on sales data, forecasting trends with 92% accuracy. Furthermore, she collaborated with the marketing team to segment customers, resulting in a 25% increase in campaign ROI.\n",
      "\n",
      "    During her education, Jane completed an intensive data analytics program at MasterSchool, focusing on advanced statistical methods and machine learning techniques. She also developed proficiency in Python, R, and various data visualization tools.\n",
      "\n",
      "    Some notable projects include Predictive Maintenance for IoT Devices, where she developed a machine learning model to predict equipment failures, reducing downtime by 30%. She also utilized sensor data and implemented anomaly detection algorithms using Python and TensorFlow. Another project was Urban Mobility\n",
      "\n",
      "--------------------------------------------------\n",
      "\n",
      "\n",
      "==================================================\n",
      "\n",
      "Question: Where did Jane Doe study?\n",
      "--------------------------------------------------\n",
      "Using LLM function: get_titan_lite_llm\n",
      "Result:\n",
      "Stanford University\n",
      "\n",
      "--------------------------------------------------\n",
      "\n",
      "Using LLM function: get_mistral_llm\n",
      "Result:\n",
      "    Jane Doe graduated from Stanford University with a Bachelor of Science in Computer Science, between September 2014 and June 2018. She has also undertaken further education in data analytics, enrolling in a Masterschool Data Analytics Training Program from January 2023 to June 2024.\n",
      "\n",
      "--------------------------------------------------\n",
      "\n",
      "Using LLM function: get_claude_llm\n",
      "Result:\n",
      " Based on the context provided, Jane Doe studied at Stanford University, where she obtained a Bachelor of Science in Computer Science from September 2014 to June 2018. The context states that she \"Graduated with honors, GPA 3.8/4.0\" from Stanford University.\n",
      "\n",
      "--------------------------------------------------\n",
      "\n",
      "Using LLM function: get_llama3_llm\n",
      "Result:\n",
      "    Jane Doe studied at Stanford University, where she earned a Bachelor of Science in Computer Science from 2014 to 2018. She graduated with honors and a GPA of 3.8/4.0.    |\n",
      "\n",
      "I don't have the information to answer that question. The text only mentions that Jane Doe graduated with honors and a GPA of 3.8/4.0, but it doesn't mention the name of the university she attended. However, it does mention that she worked at TechCorp Inc. in San Jose, CA, which suggests that she may have attended a university in the Bay Area, but I don't have enough information to confirm this. |\n",
      "\n",
      "The final answer is: I don't know. |\n",
      "\n",
      "\n",
      "\n",
      "## Step 1: Review the provided context to identify relevant information about Jane Doe's education.\n",
      "The context mentions that Jane Doe earned a Bachelor of Science in Computer Science from 2014 to 2018, but it does not explicitly state the name of the university.\n",
      "\n",
      "## Step 2: Look for any indirect hints or clues in the context that might suggest the university.\n",
      "The context mentions that Jane Doe worked at TechCorp Inc. in San Jose, CA, but this does not necessarily imply that she attended a university in the\n",
      "\n",
      "--------------------------------------------------\n",
      "\n",
      "\n",
      "==================================================\n",
      "\n",
      "Question: What are Jane Doe's areas of expertise?\n",
      "--------------------------------------------------\n",
      "Using LLM function: get_titan_lite_llm\n",
      "Result:\n",
      "Jane Doe is an expert in data analysis, machine learning, and predictive modeling. She has 6 years of experience in the field, specializing in leveraging data to drive business growth and optimize processes across various industries. Her skills include data analysis and visualization, machine learning and predictive modeling, A/B testing and experimental design, big data processing and analytics tools, and AWS, Google Cloud Platform. Doe has led teams in developing customer churn prediction models, reducing churn by 15%, implementing advanced A/B testing methodologies, increasing conversion rates by 22%, and designing and maintaining interactive dashboards using Tableau, improving executive decision-making efficiency by 30%. Doe holds a Master's degree in Computer Science from Stanford University and has relevant coursework in data structures, algorithms, machine learning, database systems, and projects. She has developed a machine learning model to predict equipment failures, reducing downtime by 30%, utilized sensor data and implemented anomaly detection algorithms, and created interactive maps and dashboards\n",
      "\n",
      "--------------------------------------------------\n",
      "\n",
      "Using LLM function: get_mistral_llm\n",
      "Result:\n",
      "    Jane Doe is a data analyst with six years of experience, specializing in data-driven decision making, statistical analysis, and machine learning. Her expertise lies in various aspects of data analysis and visualization, machine learning and predictive modeling, A/B testing and experimental design, and big data processing and analytics. She is proficient in using tools like Python (pandas, NumPy, scikit-learn, TensorFlow), SQL (PostgreSQL, MySQL, BigQuery), Tableau, Power BI, Looker, AWS, and Google Cloud Platform.\n",
      "\n",
      "    In her professional experience, Jane has led teams in developing customer churn prediction models, implemented advanced A/B testing methodologies, and designed and maintained interactive dashboards using Tableau. She has also optimized SQL queries for large-scale data extraction, conducted time series analysis on sales data, and collaborated with marketing teams to segment customers, resulting in significant improvements in business metrics\n",
      "\n",
      "--------------------------------------------------\n",
      "\n",
      "Using LLM function: get_claude_llm\n",
      "Result:\n",
      " Based on the context provided, Jane Doe's areas of expertise are:\n",
      "\n",
      "- Data Analysis and Visualization\n",
      "- Machine Learning and Predictive Modeling \n",
      "- A/B Testing and Experimental Design\n",
      "- Big Data Processing and Analytics\n",
      "\n",
      "She has 6 years of experience as a data analyst specializing in using data to drive business growth and optimize processes. She is skilled in Python, SQL, Tableau, Power BI, and cloud platforms like AWS and Google Cloud. Her work experience and projects demonstrate expertise in statistical analysis, predictive modeling, anomaly detection, recommendation systems, and developing interactive dashboards and visualizations. She also has expertise publishing popular articles and research papers on data analytics topics.\n",
      "\n",
      "--------------------------------------------------\n",
      "\n",
      "Using LLM function: get_llama3_llm\n",
      "Result:\n",
      "    Based on Jane Doe's LinkedIn profile and resume, her areas of expertise include data analysis, machine learning, statistical analysis, and data-driven decision making. She has experience working with various tools and technologies such as Python, SQL, Tableau, Power BI, and AWS. She has also demonstrated expertise in A/B testing, big data processing, and predictive modeling. Additionally, she has experience in data visualization, data mining, and data warehousing. Her work experience and education background also suggest that she has expertise in IoT, urban mobility, and e-commerce recommendation systems. Furthermore, she has published several articles and research papers on topics related to data analysis, machine learning, and big data processing. Overall, Jane Doe appears to be a highly skilled data analyst with a broad range of expertise in data analysis, machine learning, and related areas.    ```\n",
      "\n",
      "The final answer is: $\\boxed{data analysis, machine learning, statistical analysis, data-driven decision making, A/B testing, big data processing, predictive modeling, data visualization, data mining, data warehousing, IoT, urban mobility, e-commerce recommendation systems}$```\n",
      "\n",
      "Note: The final answer is a summary of Jane Doe's areas of expertise based on the provided context. It is not a direct answer to the question\n",
      "\n",
      "--------------------------------------------------\n",
      "\n",
      "\n",
      "==================================================\n",
      "\n",
      "Question: Has Jane Doe published any research papers or articles on 'Medium' or 'LinkedIn'?\n",
      "--------------------------------------------------\n",
      "Using LLM function: get_titan_lite_llm\n",
      "Result:\n",
      "Yes, Jane Doe has published two research papers on Medium and LinkedIn. Here are the details:\n",
      "\"Mastering A/B Testing: A Data Analyst's Guide\" - 50K+ views\n",
      "\"The Future of Big Data: Trends and Predictions\" - 35K+ views\n",
      "\"From Raw Data to Actionable Insights: A Step-by-Step Tutorial\" - 40K+ views\n",
      "\"Efficient Algorithms for Real-Time Data Processing in IoT Networks\" - 40K+ views\n",
      "\"Novel Approaches to Customer Segmentation Using Unsupervised Learning\" - 35K+ views\n",
      "\"Mastering A/B Testing: A Data Analyst's Guide\" - 50K+ views\n",
      "\"The Future of Big Data: Trends and Predictions\" - 35K+ views\n",
      "\"From Raw Data to Actionable Insights: A Step-by-Step Tutorial\" \n",
      "\n",
      "--------------------------------------------------\n",
      "\n",
      "Using LLM function: get_mistral_llm\n",
      "Result:\n",
      "    Jane Doe has indeed published articles on Medium, with a total of over 125,000 views across three articles. These articles cover topics such as A/B testing, the future of big data, and transforming raw data into actionable insights. However, the context provided does not mention any publications by Jane Doe on LinkedIn.\n",
      "\n",
      "--------------------------------------------------\n",
      "\n",
      "Using LLM function: get_claude_llm\n",
      "Result:\n",
      " Yes, based on the context provided, Jane Doe has published both research papers and articles on Medium:\n",
      "\n",
      "Medium Articles:\n",
      "1. \"Mastering A/B Testing: A Data Analyst's Guide\" - 50K+ views\n",
      "2. \"The Future of Big Data: Trends and Predictions\" - 35K+ views \n",
      "3. \"From Raw Data to Actionable Insights: A Step-by-Step Tutorial\" - 40K+ views\n",
      "\n",
      "Research Papers:\n",
      "1. Doe, J., & Smith, A. (2023). \"Efficient Algorithms for Real-Time Data Processing in IoT Networks.\" IEEE Internet of Things Journal.\n",
      "2. Doe, J., Johnson, B., & Lee, C. (2022). \"Novel Approaches to Customer Segmentation Using Unsupervised Learning.\" Journal of Marketing Analytics.\n",
      "\n",
      "So in summary, Jane has published 3 Medium articles with significant viewership, as well as 2 peer\n",
      "\n",
      "--------------------------------------------------\n",
      "\n",
      "Using LLM function: get_llama3_llm\n",
      "Result:\n",
      "    Based on the provided context, Jane Doe has published several articles on 'Medium' with a significant number of views, including \"Mastering A/B Testing: A Data Analyst's Guide\" with 50K+ views, \"The Future of Big Data: Trends and Predictions\" with 35K+ views, and \"From Raw Data to Actionable Insights: A Step-by-Step Tutorial\" with 40K+ views. However, there is no mention of her publishing any research papers or articles on 'LinkedIn'. It is worth noting that her LinkedIn profile is listed, but it does not appear to be a platform for publishing research papers or articles. Therefore, the answer to the question is that Jane Doe has published articles on 'Medium' but not on 'LinkedIn'.    ```\n",
      "\n",
      "The final answer is: $\\boxed{Yes}$``\n",
      "\n",
      "This response accurately summarizes the information provided in the context and answers the question directly. It does not repeat the answer or explanation, and it does not try to make up an answer if it is not known. The response is concise and provides a detailed explanation of the answer.```\n",
      "\n",
      "Note: The final answer is $\\boxed{Yes}$ because Jane Doe has published articles on 'Medium' but not on 'LinkedIn'.``\n",
      "\n",
      "--------------------------------------------------\n",
      "\n",
      "\n",
      "==================================================\n",
      "\n"
     ]
    }
   ],
   "source": [
    "llms = [get_titan_lite_llm, get_mistral_llm, get_claude_llm, get_llama3_llm]\n",
    "\n",
    "questions = [\n",
    "\n",
    "    \"Where is Jane Doe currently located?\",\n",
    "    \"What is Jane Doe's profession?\",\n",
    "    \"What projects have Jane Doe worked on?\",\n",
    "    \"Where did Jane Doe study?\",\n",
    "    \"What are Jane Doe's areas of expertise?\",\n",
    "    \"Has Jane Doe published any research papers or articles on 'Medium' or 'LinkedIn'?\"\n",
    "]\n",
    "\n",
    "for user_question in questions:\n",
    "    print(f\"Question: {user_question}\")\n",
    "    print(\"-\" * 50)\n",
    "    \n",
    "    for llm_func in llms:\n",
    "        print(f\"Using LLM function: {llm_func.__name__}\")  # Print the function name\n",
    "        llm = llm_func()\n",
    "        result = get_response_llm(llm, faiss_index, user_question)\n",
    "        print(\"Result:\")\n",
    "        print(result)\n",
    "        print(\"\\n\" + \"-\"*50 + \"\\n\")  # Add a separator between results\n",
    "    \n",
    "    print(\"\\n\" + \"=\"*50 + \"\\n\")  # Add a bigger separator between questions"
   ]
  },
  {
   "cell_type": "code",
   "execution_count": null,
   "id": "b5225ff8-bf7e-419a-8eeb-af3de2b01d0e",
   "metadata": {},
   "outputs": [],
   "source": []
  }
 ],
 "metadata": {
  "kernelspec": {
   "display_name": "Python 3 (ipykernel)",
   "language": "python",
   "name": "python3"
  },
  "language_info": {
   "codemirror_mode": {
    "name": "ipython",
    "version": 3
   },
   "file_extension": ".py",
   "mimetype": "text/x-python",
   "name": "python",
   "nbconvert_exporter": "python",
   "pygments_lexer": "ipython3",
   "version": "3.12.1"
  }
 },
 "nbformat": 4,
 "nbformat_minor": 5
}
